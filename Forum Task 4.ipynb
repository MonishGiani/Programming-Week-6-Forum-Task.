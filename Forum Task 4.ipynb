{
 "cells": [
  {
   "cell_type": "code",
   "execution_count": 5,
   "metadata": {},
   "outputs": [
    {
     "name": "stdout",
     "output_type": "stream",
     "text": [
      "Morse Code:\n",
      "..-. ..- -.-. -.- ..--.. .-.-.- --..--       ... -.. ... -.. ... -..         ... -.. ... -..\n"
     ]
    }
   ],
   "source": [
    "# Define a dictionary with Morse code mappings for letters, digits, and spaces\n",
    "morse_code = {\n",
    "    'A': '.-', 'B': '-...', 'C': '-.-.', 'D': '-..', 'E': '.', 'F': '..-.', 'G': '--.', 'H': '....', 'I': '..', 'J': '.---',\n",
    "    'K': '-.-', 'L': '.-..', 'M': '--', 'N': '-.', 'O': '---', 'P': '.--.', 'Q': '--.-', 'R': '.-.', 'S': '...', 'T': '-',\n",
    "    'U': '..-', 'V': '...-', 'W': '.--', 'X': '-..-', 'Y': '-.--', 'Z': '--..',\n",
    "    '0': '-----', '1': '.----', '2': '..---', '3': '...--', '4': '....-', '5': '.....',\n",
    "    '6': '-....', '7': '--...', '8': '---..', '9': '----.',\n",
    "    ' ': ' ', ',': '--..--', '.': '.-.-.-', '?': '..--..'\n",
    "}\n",
    "\n",
    "# Function to convert a string to Morse code\n",
    "def string_to_morse(input_string):\n",
    "    return ' '.join(morse_code[char.upper()] for char in input_string if char.upper() in morse_code)\n",
    "\n",
    "# Get user input\n",
    "user_input = input(\"Enter the string to be converted to Morse code: \")\n",
    "\n",
    "# Convert the input to Morse code\n",
    "morse_result = string_to_morse(user_input)\n",
    "\n",
    "# Display the Morse code\n",
    "print(\"Morse Code:\")\n",
    "print(morse_result)\n"
   ]
  }
 ],
 "metadata": {
  "kernelspec": {
   "display_name": "Python 3",
   "language": "python",
   "name": "python3"
  },
  "language_info": {
   "codemirror_mode": {
    "name": "ipython",
    "version": 3
   },
   "file_extension": ".py",
   "mimetype": "text/x-python",
   "name": "python",
   "nbconvert_exporter": "python",
   "pygments_lexer": "ipython3",
   "version": "3.11.5"
  }
 },
 "nbformat": 4,
 "nbformat_minor": 2
}
