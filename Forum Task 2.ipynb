{
 "cells": [
  {
   "cell_type": "code",
   "execution_count": null,
   "metadata": {},
   "outputs": [],
   "source": [
    "# Create dictionaries for course information\n",
    "course_info = {\n",
    "    \"COP 2510\": (\"Programming Concepts\", \"Z. Beasley\", \"MW 12:30pm – 1:45pm\"),\n",
    "    \"EGN 3000L\": (\"Foundations of Engineering Lab\", \"J. Anderson\", \"TR 11:00am – 12:15pm\"),\n",
    "    \"MAC 2281\": (\"Calculus I\", \"A. Makaryus\", \"MW 9:30am – 10:45am\"),\n",
    "    \"MUH 3016\": (\"Survey of Jazz\", \"A. Wilkins\", \"online asynchronous\"),\n",
    "    \"PHY 2048\": (\"General Physics I\", \"G. Pradhan\", \"TR 5:00pm – 6:15pm\"),\n",
    "}\n",
    "\n",
    "# Get user input for a course number\n",
    "course_number = input(\"Enter a course number: \").strip()\n",
    "\n",
    "# Check if the entered course number is in the dictionary\n",
    "if course_number in course_info:\n",
    "    course_name, instructor, class_time = course_info[course_number]\n",
    "\n",
    "    # Display course information\n",
    "    print(\"The course details are:\")\n",
    "    print(f\"Course Name: {course_name}\")\n",
    "    print(f\"Instructor: {instructor}\")\n",
    "    print(f\"Class Times: {class_time}\")\n",
    "else:\n",
    "    print(f\"{course_number} is an invalid course number.\")\n"
   ]
  }
 ],
 "metadata": {
  "kernelspec": {
   "display_name": "Python 3",
   "language": "python",
   "name": "python3"
  },
  "language_info": {
   "codemirror_mode": {
    "name": "ipython",
    "version": 3
   },
   "file_extension": ".py",
   "mimetype": "text/x-python",
   "name": "python",
   "nbconvert_exporter": "python",
   "pygments_lexer": "ipython3",
   "version": "3.11.5"
  }
 },
 "nbformat": 4,
 "nbformat_minor": 2
}
