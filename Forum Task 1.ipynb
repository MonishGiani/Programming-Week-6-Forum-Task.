{
 "cells": [
  {
   "cell_type": "code",
   "execution_count": null,
   "metadata": {},
   "outputs": [],
   "source": [
    "# Define dictionaries for three students\n",
    "students = [\n",
    "    {\"name\": \"Lloyd\", \"homework\": [90.0, 97.0, 75.0, 92.0], \"quizzes\": [88.0, 40.0, 94.0], \"tests\": [75.0, 90.0]},\n",
    "    {\"name\": \"Alice\", \"homework\": [100.0, 92.0, 98.0, 100.0], \"quizzes\": [82.0, 83.0, 91.0], \"tests\": [89.0, 97.0]},\n",
    "    {\"name\": \"Tyler\", \"homework\": [0.0, 87.0, 75.0, 22.0], \"quizzes\": [0.0, 75.0, 78.0], \"tests\": [100.0, 100.0]}\n",
    "]\n",
    "\n",
    "# Function to calculate average\n",
    "def average(numbers):\n",
    "    return sum(numbers) / len(numbers)\n",
    "\n",
    "# Function to calculate weighted average\n",
    "def get_average(student):\n",
    "    return round(0.1 * average(student[\"homework\"]) + 0.3 * average(student[\"quizzes\"]) + 0.6 * average(student[\"tests\"]), 2)\n",
    "\n",
    "# Function to calculate letter grade\n",
    "def get_letter_grade(score):\n",
    "    return \"A\" if score >= 90 else \"B\" if score >= 80 else \"C\" if score >= 70 else \"D\" if score >= 60 else \"F\"\n",
    "\n",
    "# Calculate and print each student's data, average score, and grade\n",
    "for student in students:\n",
    "    print(f\"Student: {student['name']}\")\n",
    "    print(f\"Homework: {student['homework']}\")\n",
    "    print(f\"Quizzes: {student['quizzes']}\")\n",
    "    print(f\"Tests: {student['tests']}\")\n",
    "    avg = get_average(student)\n",
    "    grade = get_letter_grade(avg)\n",
    "    print(f\"Average: {avg}\\nGrade: {grade}\\n\")\n",
    "\n",
    "# Calculate and print the class average and class grade\n",
    "class_averages = [get_average(student) for student in students]\n",
    "class_average = round(average(class_averages), 2)\n",
    "class_grade = get_letter_grade(class_average)\n",
    "print(f\"Class Average: {class_average}\\nClass Grade: {class_grade}\")\n",
    "\n"
   ]
  }
 ],
 "metadata": {
  "kernelspec": {
   "display_name": "Python 3",
   "language": "python",
   "name": "python3"
  },
  "language_info": {
   "codemirror_mode": {
    "name": "ipython",
    "version": 3
   },
   "file_extension": ".py",
   "mimetype": "text/x-python",
   "name": "python",
   "nbconvert_exporter": "python",
   "pygments_lexer": "ipython3",
   "version": "3.11.5"
  }
 },
 "nbformat": 4,
 "nbformat_minor": 2
}
