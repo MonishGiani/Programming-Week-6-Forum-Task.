{
 "cells": [
  {
   "cell_type": "code",
   "execution_count": null,
   "metadata": {},
   "outputs": [],
   "source": [
    "# Initialize the days of the week and sales data\n",
    "days_of_week = (\"Sunday\", \"Monday\", \"Tuesday\", \"Wednesday\", \"Thursday\", \"Friday\", \"Saturday\")\n",
    "sales_data = []\n",
    "\n",
    "# Loop to get sales data for each day of the week\n",
    "for day in days_of_week:\n",
    "    while True:\n",
    "        try:\n",
    "            sale = float(input(f\"Enter the sales for {day}: \"))\n",
    "            if sale >= 0:\n",
    "                sales_data.append(sale)\n",
    "                break\n",
    "            else:\n",
    "                raise ValueError(\"Input was invalid.\")\n",
    "        except ValueError:\n",
    "            print(\"Input was invalid. Re-enter the sales for\", day)\n",
    "\n",
    "# Calculate total sales, minimum, and maximum sales\n",
    "total_sales, min_sale, max_sale = sum(sales_data), min(sales_data), max(sales_data)\n",
    "\n",
    "# Display results with formatted currency\n",
    "results = {\n",
    "    \"Total Sales\": f\"${total_sales:,.2f}\",\n",
    "    \"Minimum Sale Amount\": f\"${min_sale:,.2f}\",\n",
    "    \"Maximum Sale Amount\": f\"${max_sale:,.2f}\"\n",
    "}\n",
    "\n",
    "for label, value in results.items():\n",
    "    print(f\"The {label} was: {value}\")\n"
   ]
  }
 ],
 "metadata": {
  "kernelspec": {
   "display_name": "Python 3",
   "language": "python",
   "name": "python3"
  },
  "language_info": {
   "codemirror_mode": {
    "name": "ipython",
    "version": 3
   },
   "file_extension": ".py",
   "mimetype": "text/x-python",
   "name": "python",
   "nbconvert_exporter": "python",
   "pygments_lexer": "ipython3",
   "version": "3.11.5"
  }
 },
 "nbformat": 4,
 "nbformat_minor": 2
}
